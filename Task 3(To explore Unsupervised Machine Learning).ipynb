{
 "cells": [
  {
   "cell_type": "markdown",
   "metadata": {},
   "source": [
    "# Task 3: To explore unsupervised Machine Learning"
   ]
  },
  {
   "cell_type": "code",
   "execution_count": 39,
   "metadata": {},
   "outputs": [],
   "source": [
    "import pandas as pd\n",
    "import matplotlib.pyplot as plt\n",
    "import numpy as np\n",
    "from sklearn.cluster import KMeans\n"
   ]
  },
  {
   "cell_type": "code",
   "execution_count": 40,
   "metadata": {},
   "outputs": [],
   "source": [
    "iris = pd.read_csv('Iris.csv')"
   ]
  },
  {
   "cell_type": "code",
   "execution_count": 41,
   "metadata": {},
   "outputs": [
    {
     "data": {
      "text/html": [
       "<div>\n",
       "<style scoped>\n",
       "    .dataframe tbody tr th:only-of-type {\n",
       "        vertical-align: middle;\n",
       "    }\n",
       "\n",
       "    .dataframe tbody tr th {\n",
       "        vertical-align: top;\n",
       "    }\n",
       "\n",
       "    .dataframe thead th {\n",
       "        text-align: right;\n",
       "    }\n",
       "</style>\n",
       "<table border=\"1\" class=\"dataframe\">\n",
       "  <thead>\n",
       "    <tr style=\"text-align: right;\">\n",
       "      <th></th>\n",
       "      <th>Id</th>\n",
       "      <th>SepalLengthCm</th>\n",
       "      <th>SepalWidthCm</th>\n",
       "      <th>PetalLengthCm</th>\n",
       "      <th>PetalWidthCm</th>\n",
       "      <th>Species</th>\n",
       "    </tr>\n",
       "  </thead>\n",
       "  <tbody>\n",
       "    <tr>\n",
       "      <th>0</th>\n",
       "      <td>1</td>\n",
       "      <td>5.1</td>\n",
       "      <td>3.5</td>\n",
       "      <td>1.4</td>\n",
       "      <td>0.2</td>\n",
       "      <td>Iris-setosa</td>\n",
       "    </tr>\n",
       "    <tr>\n",
       "      <th>1</th>\n",
       "      <td>2</td>\n",
       "      <td>4.9</td>\n",
       "      <td>3.0</td>\n",
       "      <td>1.4</td>\n",
       "      <td>0.2</td>\n",
       "      <td>Iris-setosa</td>\n",
       "    </tr>\n",
       "    <tr>\n",
       "      <th>2</th>\n",
       "      <td>3</td>\n",
       "      <td>4.7</td>\n",
       "      <td>3.2</td>\n",
       "      <td>1.3</td>\n",
       "      <td>0.2</td>\n",
       "      <td>Iris-setosa</td>\n",
       "    </tr>\n",
       "    <tr>\n",
       "      <th>3</th>\n",
       "      <td>4</td>\n",
       "      <td>4.6</td>\n",
       "      <td>3.1</td>\n",
       "      <td>1.5</td>\n",
       "      <td>0.2</td>\n",
       "      <td>Iris-setosa</td>\n",
       "    </tr>\n",
       "    <tr>\n",
       "      <th>4</th>\n",
       "      <td>5</td>\n",
       "      <td>5.0</td>\n",
       "      <td>3.6</td>\n",
       "      <td>1.4</td>\n",
       "      <td>0.2</td>\n",
       "      <td>Iris-setosa</td>\n",
       "    </tr>\n",
       "  </tbody>\n",
       "</table>\n",
       "</div>"
      ],
      "text/plain": [
       "   Id  SepalLengthCm  SepalWidthCm  PetalLengthCm  PetalWidthCm      Species\n",
       "0   1            5.1           3.5            1.4           0.2  Iris-setosa\n",
       "1   2            4.9           3.0            1.4           0.2  Iris-setosa\n",
       "2   3            4.7           3.2            1.3           0.2  Iris-setosa\n",
       "3   4            4.6           3.1            1.5           0.2  Iris-setosa\n",
       "4   5            5.0           3.6            1.4           0.2  Iris-setosa"
      ]
     },
     "execution_count": 41,
     "metadata": {},
     "output_type": "execute_result"
    }
   ],
   "source": [
    "iris.head()"
   ]
  },
  {
   "cell_type": "markdown",
   "metadata": {},
   "source": [
    "## For Sepal Lenght and Sepal Width"
   ]
  },
  {
   "cell_type": "code",
   "execution_count": 42,
   "metadata": {},
   "outputs": [],
   "source": [
    "X=iris.iloc[:,:3].values\n",
    "y=iris.Species"
   ]
  },
  {
   "cell_type": "code",
   "execution_count": 43,
   "metadata": {},
   "outputs": [
    {
     "data": {
      "text/plain": [
       "array([[  1. ,   5.1,   3.5],\n",
       "       [  2. ,   4.9,   3. ],\n",
       "       [  3. ,   4.7,   3.2],\n",
       "       [  4. ,   4.6,   3.1],\n",
       "       [  5. ,   5. ,   3.6],\n",
       "       [  6. ,   5.4,   3.9],\n",
       "       [  7. ,   4.6,   3.4],\n",
       "       [  8. ,   5. ,   3.4],\n",
       "       [  9. ,   4.4,   2.9],\n",
       "       [ 10. ,   4.9,   3.1],\n",
       "       [ 11. ,   5.4,   3.7],\n",
       "       [ 12. ,   4.8,   3.4],\n",
       "       [ 13. ,   4.8,   3. ],\n",
       "       [ 14. ,   4.3,   3. ],\n",
       "       [ 15. ,   5.8,   4. ],\n",
       "       [ 16. ,   5.7,   4.4],\n",
       "       [ 17. ,   5.4,   3.9],\n",
       "       [ 18. ,   5.1,   3.5],\n",
       "       [ 19. ,   5.7,   3.8],\n",
       "       [ 20. ,   5.1,   3.8],\n",
       "       [ 21. ,   5.4,   3.4],\n",
       "       [ 22. ,   5.1,   3.7],\n",
       "       [ 23. ,   4.6,   3.6],\n",
       "       [ 24. ,   5.1,   3.3],\n",
       "       [ 25. ,   4.8,   3.4],\n",
       "       [ 26. ,   5. ,   3. ],\n",
       "       [ 27. ,   5. ,   3.4],\n",
       "       [ 28. ,   5.2,   3.5],\n",
       "       [ 29. ,   5.2,   3.4],\n",
       "       [ 30. ,   4.7,   3.2],\n",
       "       [ 31. ,   4.8,   3.1],\n",
       "       [ 32. ,   5.4,   3.4],\n",
       "       [ 33. ,   5.2,   4.1],\n",
       "       [ 34. ,   5.5,   4.2],\n",
       "       [ 35. ,   4.9,   3.1],\n",
       "       [ 36. ,   5. ,   3.2],\n",
       "       [ 37. ,   5.5,   3.5],\n",
       "       [ 38. ,   4.9,   3.1],\n",
       "       [ 39. ,   4.4,   3. ],\n",
       "       [ 40. ,   5.1,   3.4],\n",
       "       [ 41. ,   5. ,   3.5],\n",
       "       [ 42. ,   4.5,   2.3],\n",
       "       [ 43. ,   4.4,   3.2],\n",
       "       [ 44. ,   5. ,   3.5],\n",
       "       [ 45. ,   5.1,   3.8],\n",
       "       [ 46. ,   4.8,   3. ],\n",
       "       [ 47. ,   5.1,   3.8],\n",
       "       [ 48. ,   4.6,   3.2],\n",
       "       [ 49. ,   5.3,   3.7],\n",
       "       [ 50. ,   5. ,   3.3],\n",
       "       [ 51. ,   7. ,   3.2],\n",
       "       [ 52. ,   6.4,   3.2],\n",
       "       [ 53. ,   6.9,   3.1],\n",
       "       [ 54. ,   5.5,   2.3],\n",
       "       [ 55. ,   6.5,   2.8],\n",
       "       [ 56. ,   5.7,   2.8],\n",
       "       [ 57. ,   6.3,   3.3],\n",
       "       [ 58. ,   4.9,   2.4],\n",
       "       [ 59. ,   6.6,   2.9],\n",
       "       [ 60. ,   5.2,   2.7],\n",
       "       [ 61. ,   5. ,   2. ],\n",
       "       [ 62. ,   5.9,   3. ],\n",
       "       [ 63. ,   6. ,   2.2],\n",
       "       [ 64. ,   6.1,   2.9],\n",
       "       [ 65. ,   5.6,   2.9],\n",
       "       [ 66. ,   6.7,   3.1],\n",
       "       [ 67. ,   5.6,   3. ],\n",
       "       [ 68. ,   5.8,   2.7],\n",
       "       [ 69. ,   6.2,   2.2],\n",
       "       [ 70. ,   5.6,   2.5],\n",
       "       [ 71. ,   5.9,   3.2],\n",
       "       [ 72. ,   6.1,   2.8],\n",
       "       [ 73. ,   6.3,   2.5],\n",
       "       [ 74. ,   6.1,   2.8],\n",
       "       [ 75. ,   6.4,   2.9],\n",
       "       [ 76. ,   6.6,   3. ],\n",
       "       [ 77. ,   6.8,   2.8],\n",
       "       [ 78. ,   6.7,   3. ],\n",
       "       [ 79. ,   6. ,   2.9],\n",
       "       [ 80. ,   5.7,   2.6],\n",
       "       [ 81. ,   5.5,   2.4],\n",
       "       [ 82. ,   5.5,   2.4],\n",
       "       [ 83. ,   5.8,   2.7],\n",
       "       [ 84. ,   6. ,   2.7],\n",
       "       [ 85. ,   5.4,   3. ],\n",
       "       [ 86. ,   6. ,   3.4],\n",
       "       [ 87. ,   6.7,   3.1],\n",
       "       [ 88. ,   6.3,   2.3],\n",
       "       [ 89. ,   5.6,   3. ],\n",
       "       [ 90. ,   5.5,   2.5],\n",
       "       [ 91. ,   5.5,   2.6],\n",
       "       [ 92. ,   6.1,   3. ],\n",
       "       [ 93. ,   5.8,   2.6],\n",
       "       [ 94. ,   5. ,   2.3],\n",
       "       [ 95. ,   5.6,   2.7],\n",
       "       [ 96. ,   5.7,   3. ],\n",
       "       [ 97. ,   5.7,   2.9],\n",
       "       [ 98. ,   6.2,   2.9],\n",
       "       [ 99. ,   5.1,   2.5],\n",
       "       [100. ,   5.7,   2.8],\n",
       "       [101. ,   6.3,   3.3],\n",
       "       [102. ,   5.8,   2.7],\n",
       "       [103. ,   7.1,   3. ],\n",
       "       [104. ,   6.3,   2.9],\n",
       "       [105. ,   6.5,   3. ],\n",
       "       [106. ,   7.6,   3. ],\n",
       "       [107. ,   4.9,   2.5],\n",
       "       [108. ,   7.3,   2.9],\n",
       "       [109. ,   6.7,   2.5],\n",
       "       [110. ,   7.2,   3.6],\n",
       "       [111. ,   6.5,   3.2],\n",
       "       [112. ,   6.4,   2.7],\n",
       "       [113. ,   6.8,   3. ],\n",
       "       [114. ,   5.7,   2.5],\n",
       "       [115. ,   5.8,   2.8],\n",
       "       [116. ,   6.4,   3.2],\n",
       "       [117. ,   6.5,   3. ],\n",
       "       [118. ,   7.7,   3.8],\n",
       "       [119. ,   7.7,   2.6],\n",
       "       [120. ,   6. ,   2.2],\n",
       "       [121. ,   6.9,   3.2],\n",
       "       [122. ,   5.6,   2.8],\n",
       "       [123. ,   7.7,   2.8],\n",
       "       [124. ,   6.3,   2.7],\n",
       "       [125. ,   6.7,   3.3],\n",
       "       [126. ,   7.2,   3.2],\n",
       "       [127. ,   6.2,   2.8],\n",
       "       [128. ,   6.1,   3. ],\n",
       "       [129. ,   6.4,   2.8],\n",
       "       [130. ,   7.2,   3. ],\n",
       "       [131. ,   7.4,   2.8],\n",
       "       [132. ,   7.9,   3.8],\n",
       "       [133. ,   6.4,   2.8],\n",
       "       [134. ,   6.3,   2.8],\n",
       "       [135. ,   6.1,   2.6],\n",
       "       [136. ,   7.7,   3. ],\n",
       "       [137. ,   6.3,   3.4],\n",
       "       [138. ,   6.4,   3.1],\n",
       "       [139. ,   6. ,   3. ],\n",
       "       [140. ,   6.9,   3.1],\n",
       "       [141. ,   6.7,   3.1],\n",
       "       [142. ,   6.9,   3.1],\n",
       "       [143. ,   5.8,   2.7],\n",
       "       [144. ,   6.8,   3.2],\n",
       "       [145. ,   6.7,   3.3],\n",
       "       [146. ,   6.7,   3. ],\n",
       "       [147. ,   6.3,   2.5],\n",
       "       [148. ,   6.5,   3. ],\n",
       "       [149. ,   6.2,   3.4],\n",
       "       [150. ,   5.9,   3. ]])"
      ]
     },
     "execution_count": 43,
     "metadata": {},
     "output_type": "execute_result"
    }
   ],
   "source": [
    "X"
   ]
  },
  {
   "cell_type": "code",
   "execution_count": 44,
   "metadata": {},
   "outputs": [
    {
     "data": {
      "text/plain": [
       "0         Iris-setosa\n",
       "1         Iris-setosa\n",
       "2         Iris-setosa\n",
       "3         Iris-setosa\n",
       "4         Iris-setosa\n",
       "            ...      \n",
       "145    Iris-virginica\n",
       "146    Iris-virginica\n",
       "147    Iris-virginica\n",
       "148    Iris-virginica\n",
       "149    Iris-virginica\n",
       "Name: Species, Length: 150, dtype: object"
      ]
     },
     "execution_count": 44,
     "metadata": {},
     "output_type": "execute_result"
    }
   ],
   "source": [
    "y"
   ]
  },
  {
   "cell_type": "code",
   "execution_count": 45,
   "metadata": {
    "scrolled": true
   },
   "outputs": [],
   "source": [
    "wcss=[]\n",
    "for i in range(1,11):\n",
    "    kmeans= KMeans(n_clusters=i,init='k-means++',max_iter=500,n_init=10,random_state=0)\n",
    "    kmeans.fit(X)\n",
    "    wcss.append(kmeans.inertia_)"
   ]
  },
  {
   "cell_type": "code",
   "execution_count": 46,
   "metadata": {},
   "outputs": [
    {
     "data": {
      "image/png": "[encoded data removed]",
      "text/plain": [
       "<Figure size 432x288 with 1 Axes>"
      ]
     },
     "metadata": {
      "needs_background": "light"
     },
     "output_type": "display_data"
    }
   ],
   "source": [
    "plt.plot(range(1,11),wcss)\n",
    "plt.title('The elbow method')\n",
    "plt.xlabel('Number of Clusters')\n",
    "plt.ylabel('WCSS')\n",
    "plt.show()"
   ]
  },
  {
   "cell_type": "code",
   "execution_count": 50,
   "metadata": {},
   "outputs": [],
   "source": [
    "    kmeans= KMeans(n_clusters=3,init='k-means++',max_iter=500,n_init=10,random_state=0)\n",
    "    y_pred=kmeans.fit_predict(X)"
   ]
  },
  {
   "cell_type": "code",
   "execution_count": 51,
   "metadata": {},
   "outputs": [
    {
     "data": {
      "text/plain": [
       "array([1, 1, 1, 1, 1, 1, 1, 1, 1, 1, 1, 1, 1, 1, 1, 1, 1, 1, 1, 1, 1, 1,\n",
       "       1, 1, 1, 1, 1, 1, 1, 1, 1, 1, 1, 1, 1, 1, 1, 1, 1, 1, 1, 1, 1, 1,\n",
       "       1, 1, 1, 1, 1, 1, 2, 2, 2, 2, 2, 2, 2, 2, 2, 2, 2, 2, 2, 2, 2, 2,\n",
       "       2, 2, 2, 2, 2, 2, 2, 2, 2, 2, 2, 2, 2, 2, 2, 2, 2, 2, 2, 2, 2, 2,\n",
       "       2, 2, 2, 2, 2, 2, 2, 2, 2, 2, 2, 2, 0, 0, 0, 0, 0, 0, 0, 0, 0, 0,\n",
       "       0, 0, 0, 0, 0, 0, 0, 0, 0, 0, 0, 0, 0, 0, 0, 0, 0, 0, 0, 0, 0, 0,\n",
       "       0, 0, 0, 0, 0, 0, 0, 0, 0, 0, 0, 0, 0, 0, 0, 0, 0, 0])"
      ]
     },
     "execution_count": 51,
     "metadata": {},
     "output_type": "execute_result"
    }
   ],
   "source": [
    "y_pred"
   ]
  },
  {
   "cell_type": "markdown",
   "metadata": {},
   "source": [
    "The Kmeans algorithm has divided the flower species into 3 classes 0,1,2 corresponding to setosa,versicolor,virginica"
   ]
  },
  {
   "cell_type": "code",
   "execution_count": 55,
   "metadata": {},
   "outputs": [
    {
     "data": {
      "image/png": "[encoded data removed]",
      "text/plain": [
       "<Figure size 1080x720 with 1 Axes>"
      ]
     },
     "metadata": {
      "needs_background": "light"
     },
     "output_type": "display_data"
    }
   ],
   "source": [
    "plt.figure(figsize=(15,10))\n",
    "plt.scatter(X[y_pred==0,1],X[y_pred==0,2],s=100,c='red',label='Iris-Setosa')\n",
    "plt.scatter(X[y_pred==1,1],X[y_pred==1,2],s=100,c='blue',label='Iris-Vercicolor')\n",
    "plt.scatter(X[y_pred==2,1],X[y_pred==2,2],s=100,c='green',label='Iris-Setosa')\n",
    "plt.scatter(kmeans.cluster_centers_[:,1],kmeans.cluster_centers_[:,2],s=100,c='black',label='centroids')\n",
    "plt.legend()\n",
    "plt.show()"
   ]
  },
  {
   "cell_type": "code",
   "execution_count": null,
   "metadata": {},
   "outputs": [],
   "source": []
  }
 ],
 "metadata": {
  "kernelspec": {
   "display_name": "Python 3",
   "language": "python",
   "name": "python3"
  },
  "language_info": {
   "codemirror_mode": {
    "name": "ipython",
    "version": 3
   },
   "file_extension": ".py",
   "mimetype": "text/x-python",
   "name": "python",
   "nbconvert_exporter": "python",
   "pygments_lexer": "ipython3",
   "version": "3.8.3"
  }
 },
 "nbformat": 4,
 "nbformat_minor": 4
}
